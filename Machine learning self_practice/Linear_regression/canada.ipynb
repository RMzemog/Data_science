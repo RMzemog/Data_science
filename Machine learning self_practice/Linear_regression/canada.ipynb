{
 "metadata": {
  "language_info": {
   "codemirror_mode": {
    "name": "ipython",
    "version": 3
   },
   "file_extension": ".py",
   "mimetype": "text/x-python",
   "name": "python",
   "nbconvert_exporter": "python",
   "pygments_lexer": "ipython3",
   "version": "3.7.6"
  },
  "orig_nbformat": 2,
  "kernelspec": {
   "name": "python376jvsc74a57bd0b6b2d40749e6fd68d5bed8333600286cff1aeae21f96a11b06608b8597bc34bb",
   "display_name": "Python 3.7.6 64-bit ('base': conda)"
  }
 },
 "nbformat": 4,
 "nbformat_minor": 2,
 "cells": [
  {
   "cell_type": "code",
   "execution_count": 1,
   "metadata": {},
   "outputs": [],
   "source": [
    "import pandas as pd \n",
    "import numpy as np \n",
    "import matplotlib.pyplot as plt \n",
    "from sklearn import linear_model as lm "
   ]
  },
  {
   "cell_type": "code",
   "execution_count": 2,
   "metadata": {},
   "outputs": [
    {
     "output_type": "execute_result",
     "data": {
      "text/plain": [
       "   year  per capita income (US$)\n",
       "0  1970              3399.299037\n",
       "1  1971              3768.297935\n",
       "2  1972              4251.175484\n",
       "3  1973              4804.463248\n",
       "4  1974              5576.514583"
      ],
      "text/html": "<div>\n<style scoped>\n    .dataframe tbody tr th:only-of-type {\n        vertical-align: middle;\n    }\n\n    .dataframe tbody tr th {\n        vertical-align: top;\n    }\n\n    .dataframe thead th {\n        text-align: right;\n    }\n</style>\n<table border=\"1\" class=\"dataframe\">\n  <thead>\n    <tr style=\"text-align: right;\">\n      <th></th>\n      <th>year</th>\n      <th>per capita income (US$)</th>\n    </tr>\n  </thead>\n  <tbody>\n    <tr>\n      <th>0</th>\n      <td>1970</td>\n      <td>3399.299037</td>\n    </tr>\n    <tr>\n      <th>1</th>\n      <td>1971</td>\n      <td>3768.297935</td>\n    </tr>\n    <tr>\n      <th>2</th>\n      <td>1972</td>\n      <td>4251.175484</td>\n    </tr>\n    <tr>\n      <th>3</th>\n      <td>1973</td>\n      <td>4804.463248</td>\n    </tr>\n    <tr>\n      <th>4</th>\n      <td>1974</td>\n      <td>5576.514583</td>\n    </tr>\n  </tbody>\n</table>\n</div>"
     },
     "metadata": {},
     "execution_count": 2
    }
   ],
   "source": [
    "df = pd.read_csv('canada.csv')\n",
    "df.head()\n"
   ]
  },
  {
   "cell_type": "code",
   "execution_count": 3,
   "metadata": {},
   "outputs": [
    {
     "output_type": "execute_result",
     "data": {
      "text/plain": [
       "      year\n",
       "year      \n",
       "1970  1970\n",
       "1971  1971\n",
       "1972  1972\n",
       "1973  1973\n",
       "1974  1974\n",
       "1975  1975\n",
       "1976  1976\n",
       "1977  1977\n",
       "1978  1978\n",
       "1979  1979\n",
       "1980  1980\n",
       "1981  1981\n",
       "1982  1982\n",
       "1983  1983\n",
       "1984  1984\n",
       "1985  1985\n",
       "1986  1986\n",
       "1987  1987\n",
       "1988  1988\n",
       "1989  1989\n",
       "1990  1990\n",
       "1991  1991\n",
       "1992  1992\n",
       "1993  1993\n",
       "1994  1994\n",
       "1995  1995\n",
       "1996  1996\n",
       "1997  1997\n",
       "1998  1998\n",
       "1999  1999\n",
       "2000  2000\n",
       "2001  2001\n",
       "2002  2002\n",
       "2003  2003\n",
       "2004  2004\n",
       "2005  2005\n",
       "2006  2006\n",
       "2007  2007\n",
       "2008  2008\n",
       "2009  2009\n",
       "2010  2010\n",
       "2011  2011\n",
       "2012  2012\n",
       "2013  2013\n",
       "2014  2014\n",
       "2015  2015\n",
       "2016  2016"
      ],
      "text/html": "<div>\n<style scoped>\n    .dataframe tbody tr th:only-of-type {\n        vertical-align: middle;\n    }\n\n    .dataframe tbody tr th {\n        vertical-align: top;\n    }\n\n    .dataframe thead th {\n        text-align: right;\n    }\n</style>\n<table border=\"1\" class=\"dataframe\">\n  <thead>\n    <tr style=\"text-align: right;\">\n      <th></th>\n      <th>year</th>\n    </tr>\n    <tr>\n      <th>year</th>\n      <th></th>\n    </tr>\n  </thead>\n  <tbody>\n    <tr>\n      <th>1970</th>\n      <td>1970</td>\n    </tr>\n    <tr>\n      <th>1971</th>\n      <td>1971</td>\n    </tr>\n    <tr>\n      <th>1972</th>\n      <td>1972</td>\n    </tr>\n    <tr>\n      <th>1973</th>\n      <td>1973</td>\n    </tr>\n    <tr>\n      <th>1974</th>\n      <td>1974</td>\n    </tr>\n    <tr>\n      <th>1975</th>\n      <td>1975</td>\n    </tr>\n    <tr>\n      <th>1976</th>\n      <td>1976</td>\n    </tr>\n    <tr>\n      <th>1977</th>\n      <td>1977</td>\n    </tr>\n    <tr>\n      <th>1978</th>\n      <td>1978</td>\n    </tr>\n    <tr>\n      <th>1979</th>\n      <td>1979</td>\n    </tr>\n    <tr>\n      <th>1980</th>\n      <td>1980</td>\n    </tr>\n    <tr>\n      <th>1981</th>\n      <td>1981</td>\n    </tr>\n    <tr>\n      <th>1982</th>\n      <td>1982</td>\n    </tr>\n    <tr>\n      <th>1983</th>\n      <td>1983</td>\n    </tr>\n    <tr>\n      <th>1984</th>\n      <td>1984</td>\n    </tr>\n    <tr>\n      <th>1985</th>\n      <td>1985</td>\n    </tr>\n    <tr>\n      <th>1986</th>\n      <td>1986</td>\n    </tr>\n    <tr>\n      <th>1987</th>\n      <td>1987</td>\n    </tr>\n    <tr>\n      <th>1988</th>\n      <td>1988</td>\n    </tr>\n    <tr>\n      <th>1989</th>\n      <td>1989</td>\n    </tr>\n    <tr>\n      <th>1990</th>\n      <td>1990</td>\n    </tr>\n    <tr>\n      <th>1991</th>\n      <td>1991</td>\n    </tr>\n    <tr>\n      <th>1992</th>\n      <td>1992</td>\n    </tr>\n    <tr>\n      <th>1993</th>\n      <td>1993</td>\n    </tr>\n    <tr>\n      <th>1994</th>\n      <td>1994</td>\n    </tr>\n    <tr>\n      <th>1995</th>\n      <td>1995</td>\n    </tr>\n    <tr>\n      <th>1996</th>\n      <td>1996</td>\n    </tr>\n    <tr>\n      <th>1997</th>\n      <td>1997</td>\n    </tr>\n    <tr>\n      <th>1998</th>\n      <td>1998</td>\n    </tr>\n    <tr>\n      <th>1999</th>\n      <td>1999</td>\n    </tr>\n    <tr>\n      <th>2000</th>\n      <td>2000</td>\n    </tr>\n    <tr>\n      <th>2001</th>\n      <td>2001</td>\n    </tr>\n    <tr>\n      <th>2002</th>\n      <td>2002</td>\n    </tr>\n    <tr>\n      <th>2003</th>\n      <td>2003</td>\n    </tr>\n    <tr>\n      <th>2004</th>\n      <td>2004</td>\n    </tr>\n    <tr>\n      <th>2005</th>\n      <td>2005</td>\n    </tr>\n    <tr>\n      <th>2006</th>\n      <td>2006</td>\n    </tr>\n    <tr>\n      <th>2007</th>\n      <td>2007</td>\n    </tr>\n    <tr>\n      <th>2008</th>\n      <td>2008</td>\n    </tr>\n    <tr>\n      <th>2009</th>\n      <td>2009</td>\n    </tr>\n    <tr>\n      <th>2010</th>\n      <td>2010</td>\n    </tr>\n    <tr>\n      <th>2011</th>\n      <td>2011</td>\n    </tr>\n    <tr>\n      <th>2012</th>\n      <td>2012</td>\n    </tr>\n    <tr>\n      <th>2013</th>\n      <td>2013</td>\n    </tr>\n    <tr>\n      <th>2014</th>\n      <td>2014</td>\n    </tr>\n    <tr>\n      <th>2015</th>\n      <td>2015</td>\n    </tr>\n    <tr>\n      <th>2016</th>\n      <td>2016</td>\n    </tr>\n  </tbody>\n</table>\n</div>"
     },
     "metadata": {},
     "execution_count": 3
    }
   ],
   "source": [
    "Year = df['year'].reset_index()\n",
    "Year.drop(columns=['index'], inplace=True)\n",
    "Year.set_index(df.year)"
   ]
  },
  {
   "cell_type": "code",
   "execution_count": 4,
   "metadata": {},
   "outputs": [
    {
     "output_type": "execute_result",
     "data": {
      "text/plain": [
       "    year\n",
       "0   1970\n",
       "1   1971\n",
       "2   1972\n",
       "3   1973\n",
       "4   1974\n",
       "5   1975\n",
       "6   1976\n",
       "7   1977\n",
       "8   1978\n",
       "9   1979\n",
       "10  1980\n",
       "11  1981\n",
       "12  1982\n",
       "13  1983\n",
       "14  1984\n",
       "15  1985\n",
       "16  1986\n",
       "17  1987\n",
       "18  1988\n",
       "19  1989\n",
       "20  1990\n",
       "21  1991\n",
       "22  1992\n",
       "23  1993\n",
       "24  1994\n",
       "25  1995\n",
       "26  1996\n",
       "27  1997\n",
       "28  1998\n",
       "29  1999\n",
       "30  2000\n",
       "31  2001\n",
       "32  2002\n",
       "33  2003\n",
       "34  2004\n",
       "35  2005\n",
       "36  2006\n",
       "37  2007\n",
       "38  2008\n",
       "39  2009\n",
       "40  2010\n",
       "41  2011\n",
       "42  2012\n",
       "43  2013\n",
       "44  2014\n",
       "45  2015\n",
       "46  2016"
      ],
      "text/html": "<div>\n<style scoped>\n    .dataframe tbody tr th:only-of-type {\n        vertical-align: middle;\n    }\n\n    .dataframe tbody tr th {\n        vertical-align: top;\n    }\n\n    .dataframe thead th {\n        text-align: right;\n    }\n</style>\n<table border=\"1\" class=\"dataframe\">\n  <thead>\n    <tr style=\"text-align: right;\">\n      <th></th>\n      <th>year</th>\n    </tr>\n  </thead>\n  <tbody>\n    <tr>\n      <th>0</th>\n      <td>1970</td>\n    </tr>\n    <tr>\n      <th>1</th>\n      <td>1971</td>\n    </tr>\n    <tr>\n      <th>2</th>\n      <td>1972</td>\n    </tr>\n    <tr>\n      <th>3</th>\n      <td>1973</td>\n    </tr>\n    <tr>\n      <th>4</th>\n      <td>1974</td>\n    </tr>\n    <tr>\n      <th>5</th>\n      <td>1975</td>\n    </tr>\n    <tr>\n      <th>6</th>\n      <td>1976</td>\n    </tr>\n    <tr>\n      <th>7</th>\n      <td>1977</td>\n    </tr>\n    <tr>\n      <th>8</th>\n      <td>1978</td>\n    </tr>\n    <tr>\n      <th>9</th>\n      <td>1979</td>\n    </tr>\n    <tr>\n      <th>10</th>\n      <td>1980</td>\n    </tr>\n    <tr>\n      <th>11</th>\n      <td>1981</td>\n    </tr>\n    <tr>\n      <th>12</th>\n      <td>1982</td>\n    </tr>\n    <tr>\n      <th>13</th>\n      <td>1983</td>\n    </tr>\n    <tr>\n      <th>14</th>\n      <td>1984</td>\n    </tr>\n    <tr>\n      <th>15</th>\n      <td>1985</td>\n    </tr>\n    <tr>\n      <th>16</th>\n      <td>1986</td>\n    </tr>\n    <tr>\n      <th>17</th>\n      <td>1987</td>\n    </tr>\n    <tr>\n      <th>18</th>\n      <td>1988</td>\n    </tr>\n    <tr>\n      <th>19</th>\n      <td>1989</td>\n    </tr>\n    <tr>\n      <th>20</th>\n      <td>1990</td>\n    </tr>\n    <tr>\n      <th>21</th>\n      <td>1991</td>\n    </tr>\n    <tr>\n      <th>22</th>\n      <td>1992</td>\n    </tr>\n    <tr>\n      <th>23</th>\n      <td>1993</td>\n    </tr>\n    <tr>\n      <th>24</th>\n      <td>1994</td>\n    </tr>\n    <tr>\n      <th>25</th>\n      <td>1995</td>\n    </tr>\n    <tr>\n      <th>26</th>\n      <td>1996</td>\n    </tr>\n    <tr>\n      <th>27</th>\n      <td>1997</td>\n    </tr>\n    <tr>\n      <th>28</th>\n      <td>1998</td>\n    </tr>\n    <tr>\n      <th>29</th>\n      <td>1999</td>\n    </tr>\n    <tr>\n      <th>30</th>\n      <td>2000</td>\n    </tr>\n    <tr>\n      <th>31</th>\n      <td>2001</td>\n    </tr>\n    <tr>\n      <th>32</th>\n      <td>2002</td>\n    </tr>\n    <tr>\n      <th>33</th>\n      <td>2003</td>\n    </tr>\n    <tr>\n      <th>34</th>\n      <td>2004</td>\n    </tr>\n    <tr>\n      <th>35</th>\n      <td>2005</td>\n    </tr>\n    <tr>\n      <th>36</th>\n      <td>2006</td>\n    </tr>\n    <tr>\n      <th>37</th>\n      <td>2007</td>\n    </tr>\n    <tr>\n      <th>38</th>\n      <td>2008</td>\n    </tr>\n    <tr>\n      <th>39</th>\n      <td>2009</td>\n    </tr>\n    <tr>\n      <th>40</th>\n      <td>2010</td>\n    </tr>\n    <tr>\n      <th>41</th>\n      <td>2011</td>\n    </tr>\n    <tr>\n      <th>42</th>\n      <td>2012</td>\n    </tr>\n    <tr>\n      <th>43</th>\n      <td>2013</td>\n    </tr>\n    <tr>\n      <th>44</th>\n      <td>2014</td>\n    </tr>\n    <tr>\n      <th>45</th>\n      <td>2015</td>\n    </tr>\n    <tr>\n      <th>46</th>\n      <td>2016</td>\n    </tr>\n  </tbody>\n</table>\n</div>"
     },
     "metadata": {},
     "execution_count": 4
    }
   ],
   "source": [
    "Year"
   ]
  },
  {
   "cell_type": "code",
   "execution_count": null,
   "metadata": {},
   "outputs": [],
   "source": [
    "plt()"
   ]
  }
 ]
}